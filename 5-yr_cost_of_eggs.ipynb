{
 "cells": [
  {
   "cell_type": "markdown",
   "id": "03f8ee36-8a38-4f1b-9b4a-271d091be68e",
   "metadata": {},
   "source": [
    "## Cost Analysis of Eggs\n",
    "# 5- year time span, conventionally and organically produced"
   ]
  },
  {
   "cell_type": "code",
   "execution_count": 1,
   "id": "3d0712fd-8d05-4e28-9758-1871a06d6d53",
   "metadata": {},
   "outputs": [],
   "source": [
    "# Load the csv file"
   ]
  },
  {
   "cell_type": "code",
   "execution_count": 2,
   "id": "3907647b-3e78-4197-aba1-4d86bc704d2e",
   "metadata": {},
   "outputs": [],
   "source": [
    "# Drop unneeded columns. Combine the Organic rows into one organic categroy. Create a dataframe. "
   ]
  },
  {
   "cell_type": "code",
   "execution_count": 3,
   "id": "36c1389e-0691-4239-a73d-e23690c636b6",
   "metadata": {},
   "outputs": [],
   "source": [
    "# Group the data by date on month. Depending on how the date fields are organized, I might need to \n",
    "# extract the month from the date field. "
   ]
  },
  {
   "cell_type": "code",
   "execution_count": 4,
   "id": "f5e0957f-3bd8-4301-be8a-00cc7ebff06d",
   "metadata": {},
   "outputs": [],
   "source": [
    "# Create a line graph of the change in cost in eggs over 5 years. "
   ]
  },
  {
   "cell_type": "code",
   "execution_count": null,
   "id": "9390aea2-fb2e-4973-a390-1f362a3b1aa3",
   "metadata": {},
   "outputs": [],
   "source": []
  }
 ],
 "metadata": {
  "kernelspec": {
   "display_name": "Python 3 (ipykernel)",
   "language": "python",
   "name": "python3"
  },
  "language_info": {
   "codemirror_mode": {
    "name": "ipython",
    "version": 3
   },
   "file_extension": ".py",
   "mimetype": "text/x-python",
   "name": "python",
   "nbconvert_exporter": "python",
   "pygments_lexer": "ipython3",
   "version": "3.12.7"
  }
 },
 "nbformat": 4,
 "nbformat_minor": 5
}
