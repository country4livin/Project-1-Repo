{
 "cells": [
  {
   "cell_type": "code",
   "execution_count": null,
   "id": "778a5ca3-c1a4-4504-aa17-904aa9a2c456",
   "metadata": {},
   "outputs": [],
   "source": [
    "Main Notebook"
   ]
  },
  {
   "cell_type": "code",
   "execution_count": null,
   "id": "703cfa46-6da0-4e9d-9a55-264f6fc31c7a",
   "metadata": {},
   "outputs": [],
   "source": [
    "#Import Dependencies\n"
   ]
  },
  {
   "cell_type": "code",
   "execution_count": null,
   "id": "fd483c4e-c2c9-4910-a39e-58d536c31290",
   "metadata": {},
   "outputs": [],
   "source": [
    "#Read in CSV file\n",
    "\n",
    "#Create Dataframe"
   ]
  },
  {
   "cell_type": "code",
   "execution_count": null,
   "id": "498f1d7a-4e56-4ff7-b424-43e1e977fa6f",
   "metadata": {},
   "outputs": [],
   "source": [
    "#Question 1 - Trends over 5 years"
   ]
  },
  {
   "cell_type": "code",
   "execution_count": null,
   "id": "b81989a2-e850-4b7a-b652-0235865cc1a7",
   "metadata": {},
   "outputs": [],
   "source": [
    "#Graphs"
   ]
  },
  {
   "cell_type": "code",
   "execution_count": null,
   "id": "cc8b68d0-da98-4716-b297-7f14d66392a0",
   "metadata": {},
   "outputs": [],
   "source": [
    "#Analysis"
   ]
  },
  {
   "cell_type": "code",
   "execution_count": null,
   "id": "576f2802-4c87-4634-b3f7-98cba579e83d",
   "metadata": {},
   "outputs": [],
   "source": [
    "#Question 2 - Seasonal trends"
   ]
  },
  {
   "cell_type": "code",
   "execution_count": null,
   "id": "f6495828-2835-4f3b-95e8-a06df8f13a24",
   "metadata": {},
   "outputs": [],
   "source": [
    "#Graphs"
   ]
  },
  {
   "cell_type": "code",
   "execution_count": null,
   "id": "32910980-81f0-400a-94ca-8a99c603ac19",
   "metadata": {},
   "outputs": [],
   "source": [
    "#Analysis"
   ]
  },
  {
   "cell_type": "code",
   "execution_count": null,
   "id": "ae263de5-7a9e-40df-a92f-6b361e19ca17",
   "metadata": {},
   "outputs": [],
   "source": [
    "#Question 3 - Organic v. Conventional"
   ]
  },
  {
   "cell_type": "code",
   "execution_count": null,
   "id": "81ea808f-77d4-4769-8aef-493a261fecbe",
   "metadata": {},
   "outputs": [],
   "source": [
    "#Graphs"
   ]
  },
  {
   "cell_type": "code",
   "execution_count": null,
   "id": "3cc1fb73-cfc4-4df1-9dfb-31c1f324ddf0",
   "metadata": {},
   "outputs": [],
   "source": [
    "#Analysis"
   ]
  },
  {
   "cell_type": "code",
   "execution_count": null,
   "id": "1259dc4c-8620-4a4c-927a-3b59fcb8f46b",
   "metadata": {},
   "outputs": [],
   "source": [
    "#Question 4 - Regional Differences"
   ]
  },
  {
   "cell_type": "code",
   "execution_count": null,
   "id": "67227cd2-a5c1-452d-80ef-905eb34c5948",
   "metadata": {},
   "outputs": [],
   "source": [
    "#Graphs"
   ]
  },
  {
   "cell_type": "code",
   "execution_count": null,
   "id": "01930a06-ef0a-4256-bbcc-a0a1cfad7d75",
   "metadata": {},
   "outputs": [],
   "source": [
    "#Analysis"
   ]
  },
  {
   "cell_type": "code",
   "execution_count": null,
   "id": "61aa5ef4-f287-4fb5-8349-fd5b235b3fa3",
   "metadata": {},
   "outputs": [],
   "source": [
    "#Question 5 - Correlation with Bird Flu"
   ]
  },
  {
   "cell_type": "code",
   "execution_count": null,
   "id": "35f87877-4cf4-43ae-8c3c-c5ffbff603e7",
   "metadata": {},
   "outputs": [],
   "source": [
    "#Graphs"
   ]
  },
  {
   "cell_type": "code",
   "execution_count": null,
   "id": "c15d323f-6bf0-4f66-8638-c916e667fff1",
   "metadata": {},
   "outputs": [],
   "source": [
    "#Analysis"
   ]
  },
  {
   "cell_type": "code",
   "execution_count": null,
   "id": "149d774a-4979-476b-aaef-d6a0e4069281",
   "metadata": {},
   "outputs": [],
   "source": [
    "#Conclusions"
   ]
  },
  {
   "cell_type": "code",
   "execution_count": null,
   "id": "b6074ff8-60c3-4043-b15c-8b178b277d59",
   "metadata": {},
   "outputs": [],
   "source": [
    "#Limitations"
   ]
  },
  {
   "cell_type": "code",
   "execution_count": null,
   "id": "5f40fa67-3709-497a-8174-eeaf579f62fa",
   "metadata": {},
   "outputs": [],
   "source": [
    "#Next Steps"
   ]
  }
 ],
 "metadata": {
  "kernelspec": {
   "display_name": "Python 3 (ipykernel)",
   "language": "python",
   "name": "python3"
  },
  "language_info": {
   "codemirror_mode": {
    "name": "ipython",
    "version": 3
   },
   "file_extension": ".py",
   "mimetype": "text/x-python",
   "name": "python",
   "nbconvert_exporter": "python",
   "pygments_lexer": "ipython3",
   "version": "3.10.16"
  }
 },
 "nbformat": 4,
 "nbformat_minor": 5
}
