{
 "cells": [
  {
   "cell_type": "markdown",
   "id": "b11628e5-24fd-4bda-8f25-4578629074c1",
   "metadata": {},
   "source": [
    "Analysis: \n",
    "\n",
    "We analyzed organic versus conventionally raised eggs. We wanted to see if recent changes in egg prices have affected both environmental types equally or differently. First, we aggregated the data from a CSV provided by the USDA. The data was then filtered down to include only eggs in the shell and with an environment of either specifically conventional or USDA Organic and their average price over a week period. The average monthly price per environment was then calculated from that dataset. \n",
    "\n",
    "Analysis showed that organic eggs maintained a relatively stable price over the course of 2024. The highest price for organic eggs was 5.74 in December 2024 with the lowest organic egg price being 4.48 in April 2024. This means there was only a fluctuation of $1.26 for organic eggs in 2024. \n",
    "\n",
    "The highest price for conventional eggs was 5.15 in November 2024 with the lowest conventional egg price being 1.93 in May 2024. This incidates a fluctuation much higher than in organic eggs, with the price difference for conventional eggs in 2024 being a change of 3.22. \n",
    "\n",
    "The average cost of organic eggs in 2024 was 5.01; the average cost of conventional eggs in 2024 was 2.74. \n",
    "\n",
    "The month with the greatest difference between organic and conventional eggs was January 2024 with a organic eggs being 3.29 higher than conventional. The month with the smallest difference between organic and conventional eggs was November 2024 with organic eggs being only 0.37. \n",
    "\n",
    "The implications of the data show that the prices of organic eggs fluctuated less than the price of conventional eggs over the course of 2024. The difference in conventional egg prices was 2.5x as much as the change in organic egg prices over the course of 2024. This implies that whatever external factor caused the large change in conventional eggs was not present in organic eggs, with the greatest month influence by an external factor to be November 2024. "
   ]
  },
  {
   "cell_type": "code",
   "execution_count": null,
   "id": "15685a7e-8935-4d3c-af03-1fb46fc165e6",
   "metadata": {},
   "outputs": [],
   "source": [
    "#Import Dependencies\n",
    "import matplotlib.pyplot as plt\n",
    "import pandas as pd\n",
    "import numpy as np\n",
    "from scipy.stats import linregress"
   ]
  },
  {
   "cell_type": "code",
   "execution_count": null,
   "id": "2041e0c3-e76e-4e32-9185-4273202ef0b8",
   "metadata": {},
   "outputs": [],
   "source": [
    "# Read in CSV file and create a DataFrame\n",
    "raw_egg_df = pd.read_csv(\"Resources/USDA_Eggs_2024.csv\")\n",
    "\n",
    "# Remove unnecessary columns\n",
    "raw_egg_df.drop(['office_name', 'office_code', 'office_city', 'office_state', 'published_date', 'commodity', 'slug_id', 'slug_name',\n",
    "                'report_title', 'final_ind', 'report_date', 'community', 'condition', 'price_unit', 'price_min', 'price_max'], axis=1, inplace=True)\n",
    "raw_egg_df"
   ]
  },
  {
   "cell_type": "code",
   "execution_count": null,
   "id": "a12f5889-0dbc-4f0b-99fc-bef7486a1519",
   "metadata": {},
   "outputs": [],
   "source": [
    "# Filter for shell egg\n",
    "filtered_df = raw_egg_df.loc[(raw_egg_df[\"section\"] == \"Shell Egg\")]\n",
    "filtered_df\n",
    "\n",
    "# Find the weighted data_frame for true average\n",
    "weighted_df = filtered_df[[\"report_begin_date\", \"report_end_date\", \"region\", \"section\", \"type\", \"quality_grade\", \"package_size\", \"environment\", \"price_avg\", \"store_count\"]]\n",
    "weighted_df[\"weighted\"] = weighted_df[\"price_avg\"] * weighted_df[\"store_count\"] \n",
    "weighted_df\n",
    "weighted_df[\"weighted\"]= weighted_df[\"weighted\"] / weighted_df[\"store_count\"].sum()\n",
    "weighted_df"
   ]
  },
  {
   "cell_type": "code",
   "execution_count": null,
   "id": "0c9dae7b-56eb-4f95-aa1f-c6e40dd505be",
   "metadata": {},
   "outputs": [],
   "source": [
    "# Select only relevant columns\n",
    "environment_df = weighted_df[['report_begin_date', 'environment', 'price_avg']]\n",
    "environment_df"
   ]
  },
  {
   "cell_type": "code",
   "execution_count": null,
   "id": "f149892d-ef2b-4dae-af0d-96b544a931fa",
   "metadata": {},
   "outputs": [],
   "source": [
    "#Filter so only USDA Organic and Conventional columns remain and rename columns\n",
    "filtered_env_df = environment_df[environment_df['environment'].isin(['USDA Organic', 'Conventional'])]\n",
    "filtered_env_df\n",
    "pretty_df = filtered_env_df.rename(columns={\n",
    "    'report_begin_date': 'Date',\n",
    "    'environment': 'Environment',\n",
    "    'price_avg': 'Avg. Price'\n",
    "})\n",
    "pretty_df"
   ]
  },
  {
   "cell_type": "code",
   "execution_count": null,
   "id": "4d916aaa-8207-40ef-9b6e-3d98e380d7e4",
   "metadata": {},
   "outputs": [],
   "source": [
    "#Finding average price for date and environment that are the same\n",
    "weekly_df = pretty_df.groupby(['Date', 'Environment'], as_index=False)['Avg. Price'].mean()\n",
    "weekly_df"
   ]
  },
  {
   "cell_type": "code",
   "execution_count": null,
   "id": "63b0a4fb-71ce-4ee0-b145-ddef74f8b7cf",
   "metadata": {},
   "outputs": [],
   "source": [
    "#Get average per month instead of by week\n",
    "weekly_df['Date'] = pd.to_datetime(weekly_df['Date'])\n",
    "weekly_df['Month'] = weekly_df['Date'].dt.to_period('M')\n",
    "monthly_df = weekly_df.groupby(['Month', 'Environment'], as_index=False)['Avg. Price'].mean()\n",
    "monthly_df"
   ]
  },
  {
   "cell_type": "code",
   "execution_count": null,
   "id": "2005758e-9f11-4691-8c02-0b4fab03d703",
   "metadata": {},
   "outputs": [],
   "source": [
    "organic_df = monthly_df[monthly_df['Environment'] == 'USDA Organic']\n",
    "conventional_df = monthly_df[monthly_df['Environment'] == 'Conventional']\n",
    "\n",
    "x_axis = ['Janaury', 'February', 'March', 'April', 'May', 'June', 'July', 'August', 'September', 'October', 'November', 'December']\n",
    "tick_locations = [value for value in x_axis]\n",
    "plt.figure(figsize=(10, 5))\n",
    "plt.plot(x_axis, organic_df['Avg. Price'], color='green', marker='o', linestyle='-', label='Organic')\n",
    "plt.plot(x_axis, conventional_df['Avg. Price'], color='blue', marker='o', linestyle='-', label='Conventional')\n",
    "\n",
    "# Adding titles and labels\n",
    "plt.title('Average Price of Eggs by Environment in 2024')\n",
    "plt.xlabel('Month')\n",
    "plt.ylabel('Average Price ($)')\n",
    "plt.xticks(rotation=45)  # Rotate month labels for better readability\n",
    "plt.legend()  # Show legend\n",
    "plt.grid()\n",
    "plt.ylim(bottom=0)\n",
    "\n",
    "# Show the plot\n",
    "plt.tight_layout()\n",
    "plt.show()\n",
    "\n",
    "# Save the figure\n",
    "plt.savefig(\"Project 1/Environment.png\")"
   ]
  },
  {
   "cell_type": "code",
   "execution_count": null,
   "id": "5dc036a6-964c-49e1-b0ce-7ac54cd634c9",
   "metadata": {},
   "outputs": [],
   "source": [
    "#Find summary stats\n",
    "max_organic = round(organic_df['Avg. Price'].max(), 2)\n",
    "min_organic = round(organic_df['Avg. Price'].min(), 2)\n",
    "max_conv = round(conventional_df['Avg. Price'].max(), 2)\n",
    "min_conv = round(conventional_df['Avg. Price'].min(), 2)\n",
    "mean_organic = round(organic_df['Avg. Price'].mean(), 2)\n",
    "mean_conv = round(conventional_df['Avg. Price'].mean(), 2)\n",
    "\n",
    "print(f\"The maximum price of organic eggs in 2024 was {max_organic}.\")\n",
    "print(f\"The minimum price of organic eggs in 2024 was {min_organic}.\")\n",
    "print(f\"The maximum price of conventional eggs in 2024 was {max_conv}.\")\n",
    "print(f\"The minimum price of conventional eggs in 2024 was {min_conv}.\")\n",
    "print(f\"The mean price of organic eggs in 2024 was {mean_organic}.\")\n",
    "print(f\"The mean price of conventional eggs in 2024 was {mean_conv}.\")"
   ]
  },
  {
   "cell_type": "code",
   "execution_count": null,
   "id": "dc30c802-38f5-481a-aad5-7c9a5c2699ad",
   "metadata": {
    "jupyter": {
     "source_hidden": true
    }
   },
   "outputs": [],
   "source": []
  }
 ],
 "metadata": {
  "kernelspec": {
   "display_name": "Python 3 (ipykernel)",
   "language": "python",
   "name": "python3"
  },
  "language_info": {
   "codemirror_mode": {
    "name": "ipython",
    "version": 3
   },
   "file_extension": ".py",
   "mimetype": "text/x-python",
   "name": "python",
   "nbconvert_exporter": "python",
   "pygments_lexer": "ipython3",
   "version": "3.10.16"
  }
 },
 "nbformat": 4,
 "nbformat_minor": 5
}
